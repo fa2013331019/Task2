{
 "cells": [
  {
   "cell_type": "markdown",
   "metadata": {},
   "source": [
    "# Loading a single file"
   ]
  },
  {
   "cell_type": "code",
   "execution_count": 7,
   "metadata": {
    "collapsed": true
   },
   "outputs": [],
   "source": [
    "filename = '/home/tensor_cs/Documents/DataScience/task_2/dataset/train/pos/0_9.txt'\n",
    "file = open(filename, 'r')\n",
    "text = file.read()\n",
    "file.close()"
   ]
  },
  {
   "cell_type": "code",
   "execution_count": 8,
   "metadata": {},
   "outputs": [
    {
     "data": {
      "text/plain": [
       "'Bromwell High is a cartoon comedy. It ran at the same time as some other programs about school life, such as \"Teachers\". My 35 years in the teaching profession lead me to believe that Bromwell High\\'s satire is much closer to reality than is \"Teachers\". The scramble to survive financially, the insightful students who can see right through their pathetic teachers\\' pomp, the pettiness of the whole situation, all remind me of the schools I knew and their students. When I saw the episode in which a student repeatedly tried to burn down the school, I immediately recalled ......... at .......... High. A classic line: INSPECTOR: I\\'m here to sack one of your teachers. STUDENT: Welcome to Bromwell High. I expect that many adults of my age think that Bromwell High is far fetched. What a pity that it isn\\'t!'"
      ]
     },
     "execution_count": 8,
     "metadata": {},
     "output_type": "execute_result"
    }
   ],
   "source": [
    "text"
   ]
  },
  {
   "cell_type": "markdown",
   "metadata": {},
   "source": [
    "# Creating a function to do this task"
   ]
  },
  {
   "cell_type": "code",
   "execution_count": 9,
   "metadata": {
    "collapsed": true
   },
   "outputs": [],
   "source": [
    "def load_doc(filename):\n",
    "    file = open(filename, 'r')\n",
    "    text = file.read()\n",
    "    file.close()\n",
    "    \n",
    "    return text"
   ]
  },
  {
   "cell_type": "code",
   "execution_count": 10,
   "metadata": {},
   "outputs": [
    {
     "data": {
      "text/plain": [
       "'Bromwell High is a cartoon comedy. It ran at the same time as some other programs about school life, such as \"Teachers\". My 35 years in the teaching profession lead me to believe that Bromwell High\\'s satire is much closer to reality than is \"Teachers\". The scramble to survive financially, the insightful students who can see right through their pathetic teachers\\' pomp, the pettiness of the whole situation, all remind me of the schools I knew and their students. When I saw the episode in which a student repeatedly tried to burn down the school, I immediately recalled ......... at .......... High. A classic line: INSPECTOR: I\\'m here to sack one of your teachers. STUDENT: Welcome to Bromwell High. I expect that many adults of my age think that Bromwell High is far fetched. What a pity that it isn\\'t!'"
      ]
     },
     "execution_count": 10,
     "metadata": {},
     "output_type": "execute_result"
    }
   ],
   "source": [
    "load_doc('/home/tensor_cs/Documents/DataScience/task_2/dataset/train/pos/0_9.txt')"
   ]
  },
  {
   "cell_type": "markdown",
   "metadata": {},
   "source": [
    "# Traversing Through a directory to load files"
   ]
  },
  {
   "cell_type": "code",
   "execution_count": 346,
   "metadata": {},
   "outputs": [],
   "source": [
    "from os import listdir\n",
    "\n",
    "def load_doc(filename):\n",
    "    file = open(filename, 'r')\n",
    "    text = file.read()\n",
    "    file.close()\n",
    "    \n",
    "    return text\n",
    "\n",
    "directory = '/home/tensor_cs/Documents/DataScience/task_2/dataset/train/pos'\n",
    "\n",
    "for filename in listdir(directory):\n",
    "    if not filename.endswith(\".txt\"):\n",
    "        continue\n",
    "    path = directory + '/' + filename\n",
    "    \n",
    "    doc = load_doc(path)\n",
    "    #print('Loaded %s' % filename)"
   ]
  },
  {
   "cell_type": "markdown",
   "metadata": {},
   "source": [
    "# Converting this traversal to a function so that can be used lated to process a folder"
   ]
  },
  {
   "cell_type": "code",
   "execution_count": 343,
   "metadata": {
    "collapsed": true
   },
   "outputs": [],
   "source": [
    "from os import listdir\n",
    "\n",
    "def load_doc(filename):\n",
    "    file = open(filename, 'r')\n",
    "    text = file.read()\n",
    "    file.close()\n",
    "    \n",
    "    return text\n",
    "\n",
    "def process_docs(directory):\n",
    "    for filename in listdir(directory):\n",
    "        if not filename.endswith(\".txt\"):\n",
    "            continue\n",
    "        path = directory + '/' + filename\n",
    "    \n",
    "        doc = load_doc(path)\n",
    "        #print('Loaded %s' % filename)"
   ]
  },
  {
   "cell_type": "markdown",
   "metadata": {},
   "source": [
    "# Testing the module"
   ]
  },
  {
   "cell_type": "code",
   "execution_count": 345,
   "metadata": {},
   "outputs": [],
   "source": [
    "directory = '/home/tensor_cs/Documents/DataScience/task_2/dataset/train/pos'\n",
    "process_docs(directory)"
   ]
  },
  {
   "cell_type": "markdown",
   "metadata": {},
   "source": [
    "# Taking a file and generating raw tokens from it"
   ]
  },
  {
   "cell_type": "code",
   "execution_count": 16,
   "metadata": {},
   "outputs": [
    {
     "name": "stdout",
     "output_type": "stream",
     "text": [
      "['Bromwell', 'High', 'is', 'a', 'cartoon', 'comedy.', 'It', 'ran', 'at', 'the', 'same', 'time', 'as', 'some', 'other', 'programs', 'about', 'school', 'life,', 'such', 'as', '\"Teachers\".', 'My', '35', 'years', 'in', 'the', 'teaching', 'profession', 'lead', 'me', 'to', 'believe', 'that', 'Bromwell', \"High's\", 'satire', 'is', 'much', 'closer', 'to', 'reality', 'than', 'is', '\"Teachers\".', 'The', 'scramble', 'to', 'survive', 'financially,', 'the', 'insightful', 'students', 'who', 'can', 'see', 'right', 'through', 'their', 'pathetic', \"teachers'\", 'pomp,', 'the', 'pettiness', 'of', 'the', 'whole', 'situation,', 'all', 'remind', 'me', 'of', 'the', 'schools', 'I', 'knew', 'and', 'their', 'students.', 'When', 'I', 'saw', 'the', 'episode', 'in', 'which', 'a', 'student', 'repeatedly', 'tried', 'to', 'burn', 'down', 'the', 'school,', 'I', 'immediately', 'recalled', '.........', 'at', '..........', 'High.', 'A', 'classic', 'line:', 'INSPECTOR:', \"I'm\", 'here', 'to', 'sack', 'one', 'of', 'your', 'teachers.', 'STUDENT:', 'Welcome', 'to', 'Bromwell', 'High.', 'I', 'expect', 'that', 'many', 'adults', 'of', 'my', 'age', 'think', 'that', 'Bromwell', 'High', 'is', 'far', 'fetched.', 'What', 'a', 'pity', 'that', 'it', \"isn't!\"]\n"
     ]
    }
   ],
   "source": [
    "def load_doc(filename):\n",
    "    file = open(filename, 'r')\n",
    "    text = file.read()\n",
    "    file.close()\n",
    "    \n",
    "    return text\n",
    "\n",
    "filename = '/home/tensor_cs/Documents/DataScience/task_2/dataset/train/pos/8384_7.txt'\n",
    "\n",
    "tokens = text.split()\n",
    "print(tokens)"
   ]
  },
  {
   "cell_type": "markdown",
   "metadata": {},
   "source": [
    "# Removing punctuations, numbers, one charater, meaningless words from the token set"
   ]
  },
  {
   "cell_type": "code",
   "execution_count": 30,
   "metadata": {},
   "outputs": [
    {
     "name": "stdout",
     "output_type": "stream",
     "text": [
      "['read', 'somewhere', 'fairly', 'panning', 'review', 'something', 'liveaction', 'mecha', 'anime', 'think', 'theyre', 'right', 'lines', 'first', 'watched', 'movie', 'young', 'Ive', 'dying', 'see', 'finally', 'recently', 'memories', 'came', 'flooding', 'back', 'dont', 'think', 'taken', 'seriously', 'bit', 'good', 'old', 'almostaTVmovie', 'fun', 'set', 'backdrop', 'fairly', 'dark', 'future', 'although', 'point', 'isnt', 'stressed', 'much', 'What', 'admired', 'movie', 'dialogue', 'didnt', 'sound', 'generic', 'clichés', 'predictable', 'lines', 'good', 'fun', 'Maybe', 'time', 'hasnt', 'kind', 'little', 'movie', 'still', 'find', 'appreciation', 'Its', 'means', 'perfect', 'entertaining', 'doesnt', 'try', 'anything', 'Let', 'nerds', 'comicstoreguys', 'worry', 'technicalities', 'cares', 'See', 'make', 'decision', 'Noone', 'elses', 'opinion', 'matters']\n"
     ]
    }
   ],
   "source": [
    "from nltk.corpus import stopwords\n",
    "import string\n",
    "\n",
    "def load_doc(filename):\n",
    "    file = open(filename, 'r')\n",
    "    text = file.read()\n",
    "    file.close()\n",
    "    \n",
    "    return text\n",
    "\n",
    "filename = '/home/tensor_cs/Documents/DataScience/task_2/dataset/train/pos/8384_7.txt'\n",
    "text = load_doc(filename)\n",
    "\n",
    "tokens = text.split()\n",
    "\n",
    "#Removing punctuations\n",
    "table = str.maketrans('', '', string.punctuation)\n",
    "tokens = [w.translate(table) for w in tokens]\n",
    "#Removing non alphabetical tokens\n",
    "tokens = [word for word in tokens if word.isalpha()]\n",
    "#Removing the stopwords\n",
    "stop_words = set(stopwords.words('english'))\n",
    "tokens = [w for w in tokens if not w in stop_words]\n",
    "#Removing the short tokens\n",
    "tokens = [word for word in tokens if len(word) > 1]\n",
    "print(tokens)"
   ]
  },
  {
   "cell_type": "markdown",
   "metadata": {},
   "source": [
    "# Making the Token extraction generic for any give file by creating a method"
   ]
  },
  {
   "cell_type": "code",
   "execution_count": 31,
   "metadata": {
    "collapsed": true
   },
   "outputs": [],
   "source": [
    "from nltk.corpus import stopwords\n",
    "import string\n",
    "\n",
    "def load_doc(filename):\n",
    "    file = open(filename, 'r')\n",
    "    text = file.read()\n",
    "    file.close()\n",
    "    \n",
    "    return text\n",
    "\n",
    "def clean_doc(doc):\n",
    "    tokens = text.split()\n",
    "    table = str.maketrans('', '', string.punctuation)\n",
    "    tokens = [w.translate(table) for w in tokens]\n",
    "    tokens = [word for word in tokens if word.isalpha()]\n",
    "    stop_words = set(stopwords.words('english'))\n",
    "    tokens = [w for w in tokens if not w in stop_words]\n",
    "    tokens = [word for word in tokens if len(word) > 1]\n",
    "    return tokens\n",
    "    "
   ]
  },
  {
   "cell_type": "markdown",
   "metadata": {},
   "source": [
    "# Testing the method"
   ]
  },
  {
   "cell_type": "code",
   "execution_count": 32,
   "metadata": {},
   "outputs": [
    {
     "name": "stdout",
     "output_type": "stream",
     "text": [
      "['read', 'somewhere', 'fairly', 'panning', 'review', 'something', 'liveaction', 'mecha', 'anime', 'think', 'theyre', 'right', 'lines', 'first', 'watched', 'movie', 'young', 'Ive', 'dying', 'see', 'finally', 'recently', 'memories', 'came', 'flooding', 'back', 'dont', 'think', 'taken', 'seriously', 'bit', 'good', 'old', 'almostaTVmovie', 'fun', 'set', 'backdrop', 'fairly', 'dark', 'future', 'although', 'point', 'isnt', 'stressed', 'much', 'What', 'admired', 'movie', 'dialogue', 'didnt', 'sound', 'generic', 'clichés', 'predictable', 'lines', 'good', 'fun', 'Maybe', 'time', 'hasnt', 'kind', 'little', 'movie', 'still', 'find', 'appreciation', 'Its', 'means', 'perfect', 'entertaining', 'doesnt', 'try', 'anything', 'Let', 'nerds', 'comicstoreguys', 'worry', 'technicalities', 'cares', 'See', 'make', 'decision', 'Noone', 'elses', 'opinion', 'matters']\n"
     ]
    }
   ],
   "source": [
    "filename = filename = '/home/tensor_cs/Documents/DataScience/task_2/dataset/train/pos/8384_7.txt'\n",
    "text = load_doc(filename)\n",
    "tokens = clean_doc(text)\n",
    "print(tokens)"
   ]
  },
  {
   "cell_type": "code",
   "execution_count": 33,
   "metadata": {
    "collapsed": true
   },
   "outputs": [],
   "source": [
    "def add_doc_to_vocab(filename, vocab):\n",
    "    #load doc\n",
    "    doc = load_doc(filename)\n",
    "    #cleaning\n",
    "    tokens = clean_doc(doc)\n",
    "    #update counts\n",
    "    vocab.update(tokens)"
   ]
  },
  {
   "cell_type": "markdown",
   "metadata": {},
   "source": [
    "# Integrating all the methods"
   ]
  },
  {
   "cell_type": "code",
   "execution_count": 40,
   "metadata": {},
   "outputs": [
    {
     "name": "stdout",
     "output_type": "stream",
     "text": [
      "138430\n",
      "[('br', 57141), ('The', 44351), ('movie', 41198), ('film', 37009), ('one', 23188), ('like', 18876), ('This', 14725), ('good', 13927), ('It', 12074), ('would', 12010), ('time', 11504), ('really', 11276), ('story', 11058), ('even', 10882), ('see', 10854), ('much', 9289), ('get', 8996), ('people', 8474), ('bad', 8456), ('great', 8260), ('made', 7887), ('first', 7881), ('well', 7850), ('also', 7722), ('make', 7599), ('films', 7597), ('movies', 7587), ('could', 7567), ('way', 7467), ('dont', 7333), ('But', 7216), ('characters', 7183), ('think', 7078), ('Its', 6738), ('And', 6715), ('seen', 6486), ('character', 6455), ('watch', 6269), ('many', 6233), ('two', 6171), ('plot', 6137), ('acting', 6110), ('never', 6101), ('little', 5981), ('know', 5954), ('In', 5880), ('best', 5717), ('love', 5701), ('show', 5683), ('life', 5651), ('ever', 5565), ('better', 5439), ('If', 5295), ('say', 5287), ('end', 5219), ('scene', 5134), ('still', 5027), ('scenes', 5015), ('There', 4952), ('something', 4709), ('go', 4660), ('He', 4642), ('back', 4558), ('Im', 4537), ('doesnt', 4498), ('years', 4324), ('real', 4316), ('actors', 4302), ('didnt', 4283), ('thing', 4282), ('man', 4271), ('watching', 4265), ('makes', 4139), ('find', 4076), ('work', 4057), ('actually', 3981), ('though', 3960), ('funny', 3959), ('going', 3942), ('lot', 3862), ('look', 3828), ('old', 3827), ('nothing', 3687), ('part', 3670), ('cast', 3646), ('another', 3641), ('cant', 3632), ('want', 3616), ('quite', 3603), ('seems', 3554), ('pretty', 3500), ('got', 3490), ('around', 3487), ('every', 3475), ('fact', 3465), ('things', 3450), ('enough', 3342), ('director', 3314), ('As', 3298), ('thought', 3273), ('take', 3254), ('young', 3239), ('original', 3229), ('give', 3196), ('gets', 3195), ('Ive', 3190), ('us', 3179), ('may', 3135), ('always', 3112), ('isnt', 3106), ('series', 3085), ('least', 3060), ('role', 3059), ('right', 3048), ('saw', 3042), ('horror', 3035), ('whole', 3027), ('What', 3013), ('without', 3006), ('new', 3002), ('long', 3000), ('interesting', 2996), ('bit', 2989), ('times', 2980), ('action', 2966), ('world', 2959), ('must', 2958), ('almost', 2956), ('point', 2944), ('come', 2921), ('They', 2917), ('done', 2900), ('script', 2874), ('comedy', 2872), ('might', 2853), ('family', 2836), ('feel', 2824), ('minutes', 2821), ('big', 2818), ('performance', 2804), ('anything', 2804), ('thats', 2790), ('You', 2756), ('far', 2748), ('music', 2745), ('guy', 2692), ('kind', 2670), ('probably', 2667), ('last', 2618), ('rather', 2598)]\n"
     ]
    }
   ],
   "source": [
    "from string import punctuation\n",
    "from os import listdir\n",
    "from nltk.corpus import stopwords\n",
    "from collections import Counter\n",
    "import string\n",
    "\n",
    "def load_doc(filename):\n",
    "    file = open(filename, 'r')\n",
    "    text = file.read()\n",
    "    file.close()\n",
    "    \n",
    "    return text\n",
    "\n",
    "def clean_doc(doc):\n",
    "    tokens = doc.split()\n",
    "    table = str.maketrans('', '', string.punctuation)\n",
    "    tokens = [w.translate(table) for w in tokens]\n",
    "    tokens = [word for word in tokens if word.isalpha()]\n",
    "    stop_words = set(stopwords.words('english'))\n",
    "    tokens = [w for w in tokens if not w in stop_words]\n",
    "    tokens = [word for word in tokens if len(word) > 1]\n",
    "    return tokens\n",
    "\n",
    "def add_doc_to_vocab(filename, vocab):\n",
    "    #load doc\n",
    "    doc = load_doc(filename)\n",
    "    #cleaning\n",
    "    tokens = clean_doc(doc)\n",
    "    #update counts\n",
    "    vocab.update(tokens)\n",
    "\n",
    "def process_docs(directory, vocab):\n",
    "    for filename in listdir(directory):\n",
    "        if not filename.endswith(\".txt\"):\n",
    "            continue\n",
    "        path = directory + '/' + filename\n",
    "        add_doc_to_vocab(path, vocab)\n",
    "    \n",
    "vocab = Counter()\n",
    "process_docs('/home/tensor_cs/Documents/DataScience/task_2/dataset/train/pos', vocab)\n",
    "process_docs('/home/tensor_cs/Documents/DataScience/task_2/dataset/train/neg', vocab)\n",
    "#process_docs('/home/tensor_cs/Documents/DataScience/task_2/dataset/test/pos', vocab)\n",
    "#process_docs('/home/tensor_cs/Documents/DataScience/task_2/dataset/test/neg', vocab)\n",
    "print(len(vocab))\n",
    "print(vocab.most_common(150))"
   ]
  },
  {
   "cell_type": "markdown",
   "metadata": {},
   "source": [
    "# Keep tokens with > 5 occurance"
   ]
  },
  {
   "cell_type": "code",
   "execution_count": 47,
   "metadata": {},
   "outputs": [
    {
     "name": "stdout",
     "output_type": "stream",
     "text": [
      "65663\n"
     ]
    }
   ],
   "source": [
    "min_occurane = 2\n",
    "tokens = [k for k, c in vocab.items() if c >= min_occurane]\n",
    "print(len(tokens))"
   ]
  },
  {
   "cell_type": "markdown",
   "metadata": {},
   "source": [
    "# Saving the tokens in a file"
   ]
  },
  {
   "cell_type": "code",
   "execution_count": 48,
   "metadata": {
    "collapsed": true
   },
   "outputs": [],
   "source": [
    "def save_list(lines, filename):\n",
    "    data = '\\n'.join(lines)\n",
    "    file.write(data)\n",
    "    file.close()"
   ]
  },
  {
   "cell_type": "markdown",
   "metadata": {},
   "source": [
    "# The Complete Script to create the vocabulary and save it to a file"
   ]
  },
  {
   "cell_type": "code",
   "execution_count": 52,
   "metadata": {},
   "outputs": [
    {
     "name": "stdout",
     "output_type": "stream",
     "text": [
      "138430\n",
      "[('br', 57141), ('The', 44351), ('movie', 41198), ('film', 37009), ('one', 23188), ('like', 18876), ('This', 14725), ('good', 13927), ('It', 12074), ('would', 12010), ('time', 11504), ('really', 11276), ('story', 11058), ('even', 10882), ('see', 10854), ('much', 9289), ('get', 8996), ('people', 8474), ('bad', 8456), ('great', 8260), ('made', 7887), ('first', 7881), ('well', 7850), ('also', 7722), ('make', 7599), ('films', 7597), ('movies', 7587), ('could', 7567), ('way', 7467), ('dont', 7333), ('But', 7216), ('characters', 7183), ('think', 7078), ('Its', 6738), ('And', 6715), ('seen', 6486), ('character', 6455), ('watch', 6269), ('many', 6233), ('two', 6171), ('plot', 6137), ('acting', 6110), ('never', 6101), ('little', 5981), ('know', 5954), ('In', 5880), ('best', 5717), ('love', 5701), ('show', 5683), ('life', 5651), ('ever', 5565), ('better', 5439), ('If', 5295), ('say', 5287), ('end', 5219), ('scene', 5134), ('still', 5027), ('scenes', 5015), ('There', 4952), ('something', 4709), ('go', 4660), ('He', 4642), ('back', 4558), ('Im', 4537), ('doesnt', 4498), ('years', 4324), ('real', 4316), ('actors', 4302), ('didnt', 4283), ('thing', 4282), ('man', 4271), ('watching', 4265), ('makes', 4139), ('find', 4076), ('work', 4057), ('actually', 3981), ('though', 3960), ('funny', 3959), ('going', 3942), ('lot', 3862), ('look', 3828), ('old', 3827), ('nothing', 3687), ('part', 3670), ('cast', 3646), ('another', 3641), ('cant', 3632), ('want', 3616), ('quite', 3603), ('seems', 3554), ('pretty', 3500), ('got', 3490), ('around', 3487), ('every', 3475), ('fact', 3465), ('things', 3450), ('enough', 3342), ('director', 3314), ('As', 3298), ('thought', 3273), ('take', 3254), ('young', 3239), ('original', 3229), ('give', 3196), ('gets', 3195), ('Ive', 3190), ('us', 3179), ('may', 3135), ('always', 3112), ('isnt', 3106), ('series', 3085), ('least', 3060), ('role', 3059), ('right', 3048), ('saw', 3042), ('horror', 3035), ('whole', 3027), ('What', 3013), ('without', 3006), ('new', 3002), ('long', 3000), ('interesting', 2996), ('bit', 2989), ('times', 2980), ('action', 2966), ('world', 2959), ('must', 2958), ('almost', 2956), ('point', 2944), ('come', 2921), ('They', 2917), ('done', 2900), ('script', 2874), ('comedy', 2872), ('might', 2853), ('family', 2836), ('feel', 2824), ('minutes', 2821), ('big', 2818), ('performance', 2804), ('anything', 2804), ('thats', 2790), ('You', 2756), ('far', 2748), ('music', 2745), ('guy', 2692), ('kind', 2670), ('probably', 2667), ('last', 2618), ('rather', 2598)]\n",
      "65663\n"
     ]
    }
   ],
   "source": [
    "from string import punctuation\n",
    "from os import listdir\n",
    "from nltk.corpus import stopwords\n",
    "from collections import Counter\n",
    "import string\n",
    "\n",
    "def load_doc(filename):\n",
    "    file = open(filename, 'r')\n",
    "    text = file.read()\n",
    "    file.close()\n",
    "    \n",
    "    return text\n",
    "\n",
    "def clean_doc(doc):\n",
    "    tokens = doc.split()\n",
    "    table = str.maketrans('', '', string.punctuation)\n",
    "    tokens = [w.translate(table) for w in tokens]\n",
    "    tokens = [word for word in tokens if word.isalpha()]\n",
    "    stop_words = set(stopwords.words('english'))\n",
    "    tokens = [w for w in tokens if not w in stop_words]\n",
    "    tokens = [word for word in tokens if len(word) > 1]\n",
    "    return tokens\n",
    "\n",
    "def add_doc_to_vocab(filename, vocab):\n",
    "    #load doc\n",
    "    doc = load_doc(filename)\n",
    "    #cleaning\n",
    "    tokens = clean_doc(doc)\n",
    "    #update counts\n",
    "    vocab.update(tokens)\n",
    "\n",
    "def process_docs(directory, vocab):\n",
    "    for filename in listdir(directory):\n",
    "        if not filename.endswith(\".txt\"):\n",
    "            continue\n",
    "        path = directory + '/' + filename\n",
    "        add_doc_to_vocab(path, vocab)\n",
    "        \n",
    "def save_list(lines, filename):\n",
    "    data = '\\n'.join(lines)\n",
    "    file = open(filename, 'w')\n",
    "    file.write(data)\n",
    "    file.close()\n",
    "    \n",
    "vocab = Counter()\n",
    "process_docs('/home/tensor_cs/Documents/DataScience/task_2/dataset/train/pos', vocab)\n",
    "process_docs('/home/tensor_cs/Documents/DataScience/task_2/dataset/train/neg', vocab)\n",
    "#process_docs('/home/tensor_cs/Documents/DataScience/task_2/dataset/test/pos', vocab)\n",
    "#process_docs('/home/tensor_cs/Documents/DataScience/task_2/dataset/test/neg', vocab)\n",
    "print(len(vocab))\n",
    "print(vocab.most_common(150))\n",
    "\n",
    "min_occurane = 2\n",
    "tokens = [k for k, c in vocab.items() if c >= min_occurane]\n",
    "print(len(tokens))\n",
    "\n",
    "save_list(tokens, 'vocab.txt')"
   ]
  },
  {
   "cell_type": "markdown",
   "metadata": {},
   "source": [
    "# Save prepared data"
   ]
  },
  {
   "cell_type": "code",
   "execution_count": 56,
   "metadata": {
    "collapsed": true
   },
   "outputs": [],
   "source": [
    "def load_doc(filename):\n",
    "    file = open(filename, 'r')\n",
    "    text = file.read()\n",
    "    file.close()\n",
    "    return text\n",
    "\n",
    "vocab_filename = '/home/tensor_cs/Documents/DataScience/task_2/vocab.txt'\n",
    "vocab = load_doc(vocab_filename)\n",
    "vocab = vocab.split()\n",
    "vocab = set(vocab)\n",
    "\n",
    "\n",
    "\n"
   ]
  },
  {
   "cell_type": "markdown",
   "metadata": {},
   "source": [
    "# Cleaning and tokenizing the document "
   ]
  },
  {
   "cell_type": "code",
   "execution_count": 58,
   "metadata": {
    "collapsed": true
   },
   "outputs": [],
   "source": [
    "def doc_to_line(filename, vocab):\n",
    "    doc = load_doc(filename)\n",
    "    tokens = clean_doc(doc)\n",
    "    tokens = [w for w in tokens if w in vocab]\n",
    "    return ' '.join(tokens)"
   ]
  },
  {
   "cell_type": "markdown",
   "metadata": {},
   "source": [
    "# Apply this process to a total folder"
   ]
  },
  {
   "cell_type": "code",
   "execution_count": 59,
   "metadata": {
    "collapsed": true
   },
   "outputs": [],
   "source": [
    "def process_docs(directory, vocab):\n",
    "    lines = list()\n",
    "    \n",
    "    for filename in listdir(directory):\n",
    "        \n",
    "        if not filename.endswith(\".txt\"):\n",
    "            continue\n",
    "        path = directory + '/' + filename\n",
    "        \n",
    "        line = doc_to_line(path, vocab)\n",
    "        \n",
    "        lines.append(line)\n",
    "    return lines"
   ]
  },
  {
   "cell_type": "markdown",
   "metadata": {},
   "source": [
    "# Complete script for the processing task"
   ]
  },
  {
   "cell_type": "code",
   "execution_count": 62,
   "metadata": {
    "collapsed": true
   },
   "outputs": [],
   "source": [
    "from string import punctuation\n",
    "from os import listdir\n",
    "from collections import Counter\n",
    "from nltk.corpus import stopwords\n",
    "\n",
    "def load_doc(filename):\n",
    "    file = open(filename, 'r')\n",
    "    text = file.read()\n",
    "    file.close()\n",
    "    return text\n",
    "\n",
    "def clean_doc(doc):\n",
    "    tokens = doc.split()\n",
    "    table = str.maketrans('', '', string.punctuation)\n",
    "    tokens = [w.translate(table) for w in tokens]\n",
    "    tokens = [word for word in tokens if word.isalpha()]\n",
    "    stop_words = set(stopwords.words('english'))\n",
    "    tokens = [w for w in tokens if not w in stop_words]\n",
    "    tokens = [word for word in tokens if len(word) > 1]\n",
    "    return tokens\n",
    "\n",
    "def save_list(lines, filename):\n",
    "    data = '\\n'.join(lines)\n",
    "    file = open(filename, 'w')\n",
    "    file.write(data)\n",
    "    file.close()\n",
    "    \n",
    "def doc_to_line(filename, vocab):\n",
    "    doc = load_doc(filename)\n",
    "    tokens = clean_doc(doc)\n",
    "    tokens = [w for w in tokens if w in vocab]\n",
    "    return ' '.join(tokens)\n",
    "\n",
    "def process_docs(directory, vocab):\n",
    "    lines = list()\n",
    "    \n",
    "    for filename in listdir(directory):\n",
    "        \n",
    "        if not filename.endswith(\".txt\"):\n",
    "            continue\n",
    "        path = directory + '/' + filename\n",
    "        \n",
    "        line = doc_to_line(path, vocab)\n",
    "        \n",
    "        lines.append(line)\n",
    "    return lines\n",
    "\n",
    "#Load vocabulary\n",
    "\n",
    "vocab_filename = '/home/tensor_cs/Documents/DataScience/task_2/vocab.txt'\n",
    "vocab = load_doc(vocab_filename)\n",
    "vocab = vocab.split()\n",
    "vocab = set(vocab)\n",
    "\n",
    "# prepare negative reviews\n",
    "negative_lines = process_docs('/home/tensor_cs/Documents/DataScience/task_2/dataset/train/pos', vocab)\n",
    "\n",
    "save_list(negative_lines, 'negative.txt')\n",
    "\n",
    "# prepare positive reviews\n",
    "\n",
    "positive_lines = process_docs('/home/tensor_cs/Documents/DataScience/task_2/dataset/train/neg', vocab)\n",
    "\n",
    "save_list(positive_lines, 'positive.txt')\n"
   ]
  },
  {
   "cell_type": "markdown",
   "metadata": {
    "collapsed": true
   },
   "source": [
    "# Now I will use this processed data set to train a convolutional Neural Network model. CNN is proven to be a successful method for document classification"
   ]
  },
  {
   "cell_type": "code",
   "execution_count": 26,
   "metadata": {},
   "outputs": [
    {
     "name": "stdout",
     "output_type": "stream",
     "text": [
      "_________________________________________________________________\n",
      "Layer (type)                 Output Shape              Param #   \n",
      "=================================================================\n",
      "embedding_13 (Embedding)     (None, 1447, 100)         5488900   \n",
      "_________________________________________________________________\n",
      "conv1d_13 (Conv1D)           (None, 1440, 32)          25632     \n",
      "_________________________________________________________________\n",
      "max_pooling1d_13 (MaxPooling (None, 720, 32)           0         \n",
      "_________________________________________________________________\n",
      "flatten_13 (Flatten)         (None, 23040)             0         \n",
      "_________________________________________________________________\n",
      "dense_25 (Dense)             (None, 10)                230410    \n",
      "_________________________________________________________________\n",
      "dense_26 (Dense)             (None, 1)                 11        \n",
      "=================================================================\n",
      "Total params: 5,744,953\n",
      "Trainable params: 5,744,953\n",
      "Non-trainable params: 0\n",
      "_________________________________________________________________\n",
      "None\n",
      "25000\n",
      "25000\n",
      "25000\n",
      "25000\n",
      "Epoch 1/10\n",
      " - 440s - loss: 0.6933 - acc: 0.4943\n",
      "Epoch 2/10\n",
      " - 392s - loss: 0.4103 - acc: 0.8029\n",
      "Epoch 3/10\n",
      " - 397s - loss: 0.1353 - acc: 0.9535\n",
      "Epoch 4/10\n",
      " - 331s - loss: 0.0319 - acc: 0.9914\n",
      "Epoch 5/10\n",
      " - 313s - loss: 0.0054 - acc: 0.9992\n",
      "Epoch 6/10\n",
      " - 357s - loss: 7.7574e-04 - acc: 0.9999\n",
      "Epoch 7/10\n",
      " - 332s - loss: 1.8421e-04 - acc: 1.0000\n",
      "Epoch 8/10\n",
      " - 308s - loss: 6.3513e-05 - acc: 1.0000\n",
      "Epoch 9/10\n",
      " - 314s - loss: 3.2578e-05 - acc: 1.0000\n",
      "Epoch 10/10\n",
      " - 321s - loss: 1.7729e-05 - acc: 1.0000\n",
      "Test Accuracy: 85.712000\n"
     ]
    }
   ],
   "source": [
    "from string import punctuation\n",
    "from os import listdir\n",
    "from collections import Counter\n",
    "from nltk.corpus import stopwords\n",
    "from numpy import array\n",
    "from keras.preprocessing.text import Tokenizer\n",
    "from keras.preprocessing.sequence import pad_sequences\n",
    "from keras.models import Sequential\n",
    "from keras.layers import Dense\n",
    "from keras.layers import Flatten\n",
    "from keras.layers import Embedding\n",
    "from keras.layers.convolutional import Conv1D\n",
    "from keras.layers.convolutional import MaxPooling1D\n",
    "\n",
    "def load_doc(filename):\n",
    "    file = open(filename, 'r')\n",
    "    text = file.read()\n",
    "    file.close()\n",
    "    return text\n",
    "\n",
    "def clean_doc(doc, vocab):\n",
    "    tokens = doc.split() \n",
    "    table = str.maketrans('', '', punctuation)\n",
    "    tokens = [w.translate(table) for w in tokens]\n",
    "    tokens = [w for w in tokens if w in vocab]\n",
    "    tokens = ' '.join(tokens)\n",
    "    return tokens\n",
    "\n",
    "def save_list(lines, filename):\n",
    "    data = '\\n'.join(lines)\n",
    "    file = open(filename, 'w')\n",
    "    file.write(data)\n",
    "    file.close()\n",
    "    \n",
    "def doc_to_line(filename, vocab):\n",
    "    doc = load_doc(filename)\n",
    "    tokens = clean_doc(doc)\n",
    "    tokens = [w for w in tokens if w in vocab]\n",
    "    return ' '.join(tokens)\n",
    "\n",
    "def process_docs(directory, vocab):\n",
    "    documents = list()\n",
    "    \n",
    "    for filename in listdir(directory):\n",
    "        path = directory + '/' + filename\n",
    "        doc = load_doc(path)\n",
    "        tokens = clean_doc(doc, vocab)\n",
    "        documents.append(tokens)\n",
    "    return documents\n",
    "\n",
    "#Load vocabulary\n",
    "\n",
    "vocab_filename = '/home/tensor_cs/Documents/DataScience/task_2/vocab.txt'\n",
    "vocab = load_doc(vocab_filename)\n",
    "vocab = vocab.split()\n",
    "vocab = set(vocab)\n",
    "\n",
    "# prepare reviews\n",
    "positive_docs = process_docs('/home/tensor_cs/Documents/DataScience/task_2/dataset/train/pos', vocab)\n",
    "negative_docs = process_docs('/home/tensor_cs/Documents/DataScience/task_2/dataset/train/neg', vocab) \n",
    "train_docs = positive_docs + negative_docs\n",
    "\n",
    "# Creating the tokenzier\n",
    "\n",
    "tokenizer = Tokenizer()\n",
    "tokenizer.fit_on_texts(train_docs)\n",
    "\n",
    "encoded_docs = tokenizer.texts_to_sequences(train_docs)\n",
    "\n",
    "max_length = max([len(s.split()) for s in train_docs])\n",
    "\n",
    "Xtrain = pad_sequences(encoded_docs, maxlen = max_length, padding = 'post')\n",
    "ytrain = array([0 for _ in range(12500)] + [1 for _ in range(12500)])\n",
    "\n",
    "positive_docs = process_docs('/home/tensor_cs/Documents/DataScience/task_2/dataset/test/pos', vocab)\n",
    "negative_docs = process_docs('/home/tensor_cs/Documents/DataScience/task_2/dataset/test/neg', vocab) \n",
    "test_docs = positive_docs + negative_docs\n",
    "\n",
    "# Sequence encode\n",
    "encoded_docs = tokenizer.texts_to_sequences(test_docs)\n",
    "\n",
    "Xtest = pad_sequences(encoded_docs, maxlen = max_length, padding = 'post')          \n",
    "ytest = array([0 for _ in range(12500)] + [1 for _ in range(12500)])\n",
    "\n",
    "# Vocabulary size\n",
    "vocab_size = len(tokenizer.word_index) + 1\n",
    "\n",
    "\n",
    "\n",
    "\n",
    "\n",
    "# define model\n",
    "\n",
    "model = Sequential()\n",
    "model.add(Embedding(vocab_size, 100, input_length = max_length))\n",
    "model.add(Conv1D(filters = 32, kernel_size = 8, activation = 'relu'))\n",
    "model.add(MaxPooling1D (pool_size = 2))\n",
    "model.add(Flatten())\n",
    "model.add(Dense(10, activation = 'relu'))\n",
    "model.add(Dense(1, activation = 'sigmoid'))\n",
    "print(model.summary())\n",
    "\n",
    "# Compiling the network\n",
    "model.compile(loss = 'binary_crossentropy', optimizer = 'adam', metrics = ['accuracy'])\n",
    "\n",
    "print(len(Xtrain))\n",
    "print(len(ytrain))\n",
    "print(len(Xtest))\n",
    "print(len(ytest))\n",
    "\n",
    "# Fitting the network\n",
    "model.fit(Xtrain, ytrain, epochs = 10, verbose = 2)\n",
    "\n",
    "\n",
    "# Evaluate\n",
    "loss, acc = model.evaluate(Xtest, ytest, verbose = 0)\n",
    "print('Test Accuracy: %f' % (acc * 100))\n",
    "\n"
   ]
  },
  {
   "cell_type": "markdown",
   "metadata": {},
   "source": [
    "# Saving the model"
   ]
  },
  {
   "cell_type": "code",
   "execution_count": 30,
   "metadata": {},
   "outputs": [
    {
     "name": "stdout",
     "output_type": "stream",
     "text": [
      "Saved model to disk\n",
      "Loaded model from disk\n"
     ]
    }
   ],
   "source": [
    "from keras.models import model_from_json\n",
    "\n",
    "# serialize model to JSON\n",
    "model_json = model.to_json()\n",
    "with open(\"model.json\", \"w\") as json_file:\n",
    "    json_file.write(model_json)\n",
    "    \n",
    "# serialize weights to HDF5\n",
    "model.save_weights(\"model.h5\")\n",
    "print(\"Saved model to disk\")\n",
    " \n",
    " \n",
    " \n",
    "# load json and create model\n",
    "json_file = open('model.json', 'r')\n",
    "loaded_model_json = json_file.read()\n",
    "json_file.close()\n",
    "loaded_model = model_from_json(loaded_model_json)\n",
    "\n",
    "# load weights into new model\n",
    "loaded_model.load_weights(\"model.h5\")\n",
    "print(\"Loaded model from disk\")\n",
    " \n"
   ]
  },
  {
   "cell_type": "markdown",
   "metadata": {},
   "source": [
    "# Load model from disk and test"
   ]
  },
  {
   "cell_type": "code",
   "execution_count": 32,
   "metadata": {},
   "outputs": [
    {
     "name": "stdout",
     "output_type": "stream",
     "text": [
      "Test Accuracy: 85.712000\n"
     ]
    }
   ],
   "source": [
    "loaded_model.compile(loss = 'binary_crossentropy', optimizer = 'adam', metrics = ['accuracy'])\n",
    "loss, acc = loaded_model.evaluate(Xtest, ytest, verbose = 0)\n",
    "print('Test Accuracy: %f' % (acc * 100))\n",
    "\n"
   ]
  },
  {
   "cell_type": "markdown",
   "metadata": {},
   "source": [
    "# Script that takes a file path as input and output its classification label"
   ]
  },
  {
   "cell_type": "code",
   "execution_count": 342,
   "metadata": {},
   "outputs": [],
   "source": [
    "import keras\n",
    "\n",
    "def pred(fp):\n",
    "    \n",
    "    text = load_doc(fp)\n",
    "    token = clean_doc(text, vocab)\n",
    "    tokenizer = Tokenizer()\n",
    "    tokenizer.fit_on_texts(token)\n",
    "    encoded_token = tokenizer.texts_to_sequences(token)\n",
    "    #print(len(encoded_token))\n",
    "    #print(encoded_token)\n",
    "    #process_docs(fp, vocab)\n",
    "    \n",
    "    \n",
    "    Xnew = pad_sequences(encoded_token, maxlen = max_length, padding = 'post')\n",
    "    #print(Xnew)\n",
    "    \n",
    "    json_file = open('model.json', 'r')\n",
    "    loaded_model_json = json_file.read()\n",
    "    json_file.close()\n",
    "    loaded_model = model_from_json(loaded_model_json)\n",
    "\n",
    "    #load weights into new model\n",
    "    loaded_model.load_weights(\"model.h5\")\n",
    "    loaded_model.compile(loss = 'binary_crossentropy', optimizer = 'adam', metrics = ['accuracy'])\n",
    "    \n",
    "    class_label = loaded_model.predict_classes(Xnew) \n",
    "    \n",
    "    return class_label\n",
    "    \n",
    "    "
   ]
  },
  {
   "cell_type": "code",
   "execution_count": null,
   "metadata": {},
   "outputs": [],
   "source": []
  },
  {
   "cell_type": "markdown",
   "metadata": {},
   "source": [
    "# Calculating the y_pred"
   ]
  },
  {
   "cell_type": "code",
   "execution_count": 88,
   "metadata": {},
   "outputs": [],
   "source": [
    "y_pred = loaded_model.predict(Xtest)  \n"
   ]
  },
  {
   "cell_type": "markdown",
   "metadata": {},
   "source": [
    "# Constructing the confusion matrix"
   ]
  },
  {
   "cell_type": "code",
   "execution_count": 119,
   "metadata": {},
   "outputs": [
    {
     "name": "stdout",
     "output_type": "stream",
     "text": [
      "Confusion matrix, without normalization\n",
      "[[10434  2066]\n",
      " [ 1571 10929]]\n",
      "Normalized confusion matrix\n",
      "[[ 0.83  0.17]\n",
      " [ 0.13  0.87]]\n"
     ]
    },
    {
     "data": {
      "image/png": "[encoded data removed]",
      "text/plain": [
       "<matplotlib.figure.Figure at 0x7facd41fd7f0>"
      ]
     },
     "metadata": {},
     "output_type": "display_data"
    },
    {
     "data": {
      "image/png": "[encoded data removed]",
      "text/plain": [
       "<matplotlib.figure.Figure at 0x7facd41fc128>"
      ]
     },
     "metadata": {},
     "output_type": "display_data"
    }
   ],
   "source": [
    "import itertools\n",
    "import numpy as np\n",
    "import matplotlib.pyplot as plt\n",
    "from sklearn.metrics import confusion_matrix\n",
    "\n",
    "\n",
    "\n",
    "def plot_confusion_matrix(cm, classes,\n",
    "                          normalize=False,\n",
    "                          title='Confusion matrix',\n",
    "                          cmap=plt.cm.Blues):\n",
    "    \"\"\"\n",
    "    This function prints and plots the confusion matrix.\n",
    "    Normalization can be applied by setting `normalize=True`.\n",
    "    \"\"\"\n",
    "    if normalize:\n",
    "        cm = cm.astype('float') / cm.sum(axis=1)[:, np.newaxis]\n",
    "        print(\"Normalized confusion matrix\")\n",
    "    else:\n",
    "        print('Confusion matrix, without normalization')\n",
    "\n",
    "    print(cm)\n",
    "\n",
    "    plt.imshow(cm, interpolation='nearest', cmap=cmap)\n",
    "    plt.title(title)\n",
    "    plt.colorbar()\n",
    "    tick_marks = np.arange(len(classes))\n",
    "    plt.xticks(tick_marks, classes, rotation=45)\n",
    "    plt.yticks(tick_marks, classes)\n",
    "\n",
    "    fmt = '.2f' if normalize else 'd'\n",
    "    thresh = cm.max() / 2.\n",
    "    for i, j in itertools.product(range(cm.shape[0]), range(cm.shape[1])):\n",
    "        plt.text(j, i, format(cm[i, j], fmt),\n",
    "                 horizontalalignment=\"center\",\n",
    "                 color=\"white\" if cm[i, j] > thresh else \"black\")\n",
    "\n",
    "    plt.ylabel('True label')\n",
    "    plt.xlabel('Predicted label')\n",
    "    plt.tight_layout()\n",
    "\n",
    "\n",
    "# Compute confusion matrix\n",
    "for i in range(len(y_pred)):\n",
    "    if y_pred[i] > 0.5:\n",
    "        y_pred[i] = 1\n",
    "    else:\n",
    "        y_pred[i] = 0\n",
    "cnf_matrix = confusion_matrix(ytest, array(y_pred))\n",
    "np.set_printoptions(precision=2)\n",
    "\n",
    "# Plot non-normalized confusion matrix\n",
    "plt.figure()\n",
    "plot_confusion_matrix(cnf_matrix, classes=['Positive', 'Negative'],\n",
    "                      title='Confusion matrix, without normalization')\n",
    "\n",
    "# Plot normalized confusion matrix\n",
    "plt.figure()\n",
    "plot_confusion_matrix(cnf_matrix, classes=['Positive', 'Negative'], normalize=True,\n",
    "                      title='Normalized confusion matrix')\n",
    "\n",
    "plt.show()"
   ]
  },
  {
   "cell_type": "code",
   "execution_count": null,
   "metadata": {},
   "outputs": [],
   "source": []
  },
  {
   "cell_type": "code",
   "execution_count": null,
   "metadata": {},
   "outputs": [],
   "source": []
  },
  {
   "cell_type": "code",
   "execution_count": null,
   "metadata": {},
   "outputs": [],
   "source": []
  },
  {
   "cell_type": "code",
   "execution_count": null,
   "metadata": {
    "collapsed": true
   },
   "outputs": [],
   "source": []
  }
 ],
 "metadata": {
  "kernelspec": {
   "display_name": "Python 3",
   "language": "python",
   "name": "python3"
  },
  "language_info": {
   "codemirror_mode": {
    "name": "ipython",
    "version": 3
   },
   "file_extension": ".py",
   "mimetype": "text/x-python",
   "name": "python",
   "nbconvert_exporter": "python",
   "pygments_lexer": "ipython3",
   "version": "3.6.3"
  }
 },
 "nbformat": 4,
 "nbformat_minor": 2
}
